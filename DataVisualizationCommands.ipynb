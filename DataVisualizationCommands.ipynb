{
 "cells": [
  {
   "cell_type": "code",
   "execution_count": 1,
   "metadata": {},
   "outputs": [],
   "source": [
    "from matplotlib import pyplot as plt\n",
    "#OR\n",
    "import matplotlib.pyplot as plt\n"
   ]
  },
  {
   "cell_type": "code",
   "execution_count": 2,
   "metadata": {},
   "outputs": [],
   "source": [
    "%matplotlib inline"
   ]
  },
  {
   "cell_type": "markdown",
   "metadata": {},
   "source": [
    "Matplotlib functions"
   ]
  },
  {
   "cell_type": "markdown",
   "metadata": {},
   "source": [
    "1. Standard Line Plot-\n",
    "plt.plot(x,y)\n",
    "\n",
    "2. Scatter plot-\n",
    "plt.scatter(x,y)\n",
    "\n",
    "3. Histogram-\n",
    "plt.hist(x,bins)\n",
    "\n",
    "4. Bar plot-\n",
    "plt.bar(x,height)\n",
    "\n",
    "5. Pseudo Color Plot-\n",
    "plt.pcolor(C)\n"
   ]
  },
  {
   "cell_type": "markdown",
   "metadata": {},
   "source": [
    "# seaborn functions"
   ]
  },
  {
   "cell_type": "code",
   "execution_count": 5,
   "metadata": {},
   "outputs": [],
   "source": [
    "import seaborn as sns"
   ]
  },
  {
   "cell_type": "markdown",
   "metadata": {},
   "source": [
    "1. Regression plot- \n",
    "\n",
    "    sns.regplot(x='header_1', y='header_2', data=df)\n",
    "\n",
    "2. Box and whisker plot- \n",
    "\n",
    "3. Residual plot-\n",
    "\n",
    "    sns.residplot(data=df,x='header_1', y='header_2')\n",
    "\n",
    "or \n",
    "\n",
    "        sns.residplot(x=df['header_1'], y=df['header_2'])\n",
    "\n",
    "4. KDE Plot-\n",
    "\n",
    "    sns.kdeplot(X)\n",
    "\n",
    "5. Distribution Plot- \n",
    "\n",
    "    sns.distplot(X,hist=False)"
   ]
  }
 ],
 "metadata": {
  "kernelspec": {
   "display_name": "Python 3",
   "language": "python",
   "name": "python3"
  },
  "language_info": {
   "codemirror_mode": {
    "name": "ipython",
    "version": 3
   },
   "file_extension": ".py",
   "mimetype": "text/x-python",
   "name": "python",
   "nbconvert_exporter": "python",
   "pygments_lexer": "ipython3",
   "version": "3.12.2"
  }
 },
 "nbformat": 4,
 "nbformat_minor": 2
}
