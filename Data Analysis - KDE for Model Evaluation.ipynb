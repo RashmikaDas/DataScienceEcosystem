{
 "cells": [
  {
   "cell_type": "code",
   "execution_count": 1,
   "id": "b3cdaf6e",
   "metadata": {},
   "outputs": [],
   "source": [
    "import numpy as np\n",
    "import pandas as pd\n",
    "import seaborn as sns\n",
    "import matplotlib.pyplot as plt\n",
    "from sklearn.model_selection import train_test_split\n",
    "from sklearn.linear_model import LinearRegression\n",
    "from sklearn.metrics import mean_absolute_error"
   ]
  },
  {
   "cell_type": "markdown",
   "id": "7ac78d99",
   "metadata": {},
   "source": [
    "# Generating sample Data"
   ]
  },
  {
   "cell_type": "code",
   "execution_count": 2,
   "id": "49dfe26c",
   "metadata": {},
   "outputs": [],
   "source": [
    "np.random.seed(42)\n",
    "x= np.random.rand(100)*10\n",
    "y=3*x+np.random.normal(0,3,100) #Linear relation with noise\n",
    "data=pd.DataFrame({'X': x, 'Y': y})"
   ]
  },
  {
   "cell_type": "markdown",
   "id": "25a91816",
   "metadata": {},
   "source": [
    "# Splitting Data"
   ]
  },
  {
   "cell_type": "code",
   "execution_count": 3,
   "id": "c9557143",
   "metadata": {},
   "outputs": [],
   "source": [
    "X_train, X_test, y_train, y_test= train_test_split(data[['X']], data['Y'], test_size=0.2, random_state=42)"
   ]
  },
  {
   "cell_type": "markdown",
   "id": "16d7cd37",
   "metadata": {},
   "source": [
    "# Training a Model\n"
   ]
  },
  {
   "cell_type": "code",
   "execution_count": null,
   "id": "8ba27ac6",
   "metadata": {},
   "outputs": [],
   "source": [
    "model = LinearRegression()\n",
    "model.fit(X_train, y_train)\n",
    "y_pred=model.predict(X_test)"
   ]
  }
 ],
 "metadata": {
  "kernelspec": {
   "display_name": "Python 3",
   "language": "python",
   "name": "python3"
  },
  "language_info": {
   "codemirror_mode": {
    "name": "ipython",
    "version": 3
   },
   "file_extension": ".py",
   "mimetype": "text/x-python",
   "name": "python",
   "nbconvert_exporter": "python",
   "pygments_lexer": "ipython3",
   "version": "3.9.6"
  }
 },
 "nbformat": 4,
 "nbformat_minor": 5
}
