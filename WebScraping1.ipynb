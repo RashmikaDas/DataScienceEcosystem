{
 "cells": [
  {
   "cell_type": "code",
   "execution_count": 1,
   "metadata": {},
   "outputs": [
    {
     "name": "stdout",
     "output_type": "stream",
     "text": [
      "    Rank                                Bank name  \\\n",
      "0      1  Industrial and Commercial Bank of China   \n",
      "1      2               Agricultural Bank of China   \n",
      "2      3                  China Construction Bank   \n",
      "3      4                            Bank of China   \n",
      "4      5                           JPMorgan Chase   \n",
      "..   ...                                      ...   \n",
      "95    96                         Raiffeisen Group   \n",
      "96    97                            Handelsbanken   \n",
      "97    98                 Industrial Bank of Korea   \n",
      "98    99                                      DNB   \n",
      "99   100                      Qatar National Bank   \n",
      "\n",
      "    Total assets (2023) (US$ billion)  \n",
      "0                             6303.44  \n",
      "1                             5623.12  \n",
      "2                             5400.28  \n",
      "3                             4578.28  \n",
      "4                             3875.39  \n",
      "..                                ...  \n",
      "95                             352.87  \n",
      "96                             351.79  \n",
      "97                             345.81  \n",
      "98                             339.21  \n",
      "99                             338.14  \n",
      "\n",
      "[100 rows x 3 columns]\n"
     ]
    }
   ],
   "source": [
    "import pandas as pd\n",
    "URL = 'https://en.wikipedia.org/wiki/List_of_largest_banks'\n",
    "tables=pd.read_html(URL)\n",
    "df=tables[0]\n",
    "print(df)"
   ]
  },
  {
   "cell_type": "code",
   "execution_count": 3,
   "metadata": {},
   "outputs": [
    {
     "name": "stdout",
     "output_type": "stream",
     "text": [
      "    Country/Territory UN region IMF[1][13]            World Bank[14]  \\\n",
      "    Country/Territory UN region   Forecast       Year       Estimate   \n",
      "0               World         —  109529216       2024      100562011   \n",
      "1       United States  Americas   28781083       2024       25462700   \n",
      "2               China      Asia   18532633  [n 1]2024       17963171   \n",
      "3             Germany    Europe    4591100       2024        4072192   \n",
      "4               Japan      Asia    4110452       2024        4231141   \n",
      "..                ...       ...        ...        ...            ...   \n",
      "208  Marshall Islands   Oceania        305       2024            280   \n",
      "209          Anguilla  Americas          —          —              —   \n",
      "210             Nauru   Oceania        161       2024            151   \n",
      "211        Montserrat  Americas          —          —              —   \n",
      "212            Tuvalu   Oceania         66       2024             60   \n",
      "\n",
      "               United Nations[15]             \n",
      "          Year           Estimate       Year  \n",
      "0         2022           96698005       2021  \n",
      "1         2022           23315081       2021  \n",
      "2    [n 3]2022           17734131  [n 1]2021  \n",
      "3         2022            4259935       2021  \n",
      "4         2022            4940878       2021  \n",
      "..         ...                ...        ...  \n",
      "208       2022                257       2021  \n",
      "209          —                303       2021  \n",
      "210       2022                155       2021  \n",
      "211          —                 72       2021  \n",
      "212       2022                 60       2021  \n",
      "\n",
      "[213 rows x 8 columns]\n"
     ]
    }
   ],
   "source": [
    "import pandas as pd\n",
    "url='https://en.wikipedia.org/wiki/List_of_countries_by_GDP_(nominal)'\n",
    "tables=pd.read_html(url)\n",
    "df=tables[2] #the required table will have index 2\n",
    "print(df)"
   ]
  }
 ],
 "metadata": {
  "kernelspec": {
   "display_name": "Python 3",
   "language": "python",
   "name": "python3"
  },
  "language_info": {
   "name": "python",
   "version": "3.12.2"
  }
 },
 "nbformat": 4,
 "nbformat_minor": 2
}
