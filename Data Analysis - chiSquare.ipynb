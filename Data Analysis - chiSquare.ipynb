{
 "cells": [
  {
   "cell_type": "code",
   "execution_count": 5,
   "id": "09a3afe9",
   "metadata": {},
   "outputs": [],
   "source": [
    "import pandas as pd\n",
    "from scipy.stats import chi2_contingency"
   ]
  },
  {
   "cell_type": "code",
   "execution_count": 7,
   "id": "cd8427ba",
   "metadata": {},
   "outputs": [
    {
     "name": "stdout",
     "output_type": "stream",
     "text": [
      "Chi-Squared Statistic: 0.6464646464646464\n",
      "Degrees of Freedom: 1\n",
      "P-value: 0.4213795037428696\n",
      "Expected Frequencies:\n",
      " [[22.5 27.5]\n",
      " [22.5 27.5]]\n"
     ]
    }
   ],
   "source": [
    "#Create the contingency table\n",
    "data=[[20, 30], #Male: [Like, Dislike]\n",
    "      [25,25]]  #Female: [Like, Dislike]\n",
    "\n",
    "#Create a DataFrame for better visualization\n",
    "df=pd.DataFrame(data,columns=[\"Like\", \"Dislike\"], index=[\"Male\", \"Female\"])\n",
    "\n",
    "#Perform the Chi-Squared Test\n",
    "chi2, p, dof, expected= chi2_contingency(df)\n",
    "\n",
    "#Display results\n",
    "print(\"Chi-Squared Statistic:\", chi2)\n",
    "print(\"Degrees of Freedom:\", dof)\n",
    "print(\"P-value:\", p)\n",
    "print(\"Expected Frequencies:\\n\", expected)"
   ]
  },
  {
   "cell_type": "markdown",
   "id": "dc9547ab",
   "metadata": {},
   "source": [
    "*Applications*\n",
    "\n",
    "Market Research: Analyzing the association between customer demographics and product preferences.\n",
    "Healthcare: Studying the relationship between patient characteristics and disease incidence.\n",
    "\n",
    "Social Sciences: Investigating the link between social factors (e.g., education level) and behavioral outcomes (e.g., voting patterns).\n",
    "\n",
    "Education: Examining the connection between teaching methods and student performance.\n",
    "\n",
    "Quality Control: Assessing the association between manufacturing conditions and product defects.\n",
    "\n"
   ]
  },
  {
   "cell_type": "code",
   "execution_count": 8,
   "id": "f8653c69",
   "metadata": {},
   "outputs": [],
   "source": [
    "import numpy as np\n",
    "from scipy.stats import chi2_contingency"
   ]
  },
  {
   "cell_type": "code",
   "execution_count": 10,
   "id": "59479160",
   "metadata": {},
   "outputs": [
    {
     "name": "stdout",
     "output_type": "stream",
     "text": [
      "Chi- Squared statistic: 1.0101010101010102\n",
      "p-value: 0.3148786413364169\n",
      "Degree of Freedom: 1\n",
      "Expected Frequencies:\n",
      " [[22.5 27.5]\n",
      " [22.5 27.5]]\n",
      "Cramér's V: 0.10050378152592121\n"
     ]
    }
   ],
   "source": [
    "#Observed rows = gender(Male, Female), columns = preference (Like, Dislike)\n",
    "data = np.array([\n",
    "    [20, 30], #Male: [Like, Dislike]\n",
    "    [25, 25]  #Female: [Like, Dislike]\n",
    "])\n",
    "\n",
    "#Perform Chi-Squared Test\n",
    "chi2, p, dof, expected = chi2_contingency(data, correction=False)\n",
    "\n",
    "#Calculate Cramér's V\n",
    "n = data.sum()\n",
    "cramers_v = np.sqrt(chi2 / (n*(min(data.shape)-1)))\n",
    "\n",
    "print(\"Chi- Squared statistic:\", chi2)\n",
    "print(\"p-value:\", p)\n",
    "print(\"Degree of Freedom:\", dof)\n",
    "print(\"Expected Frequencies:\\n\", expected)\n",
    "print(\"Cramér's V:\", cramers_v)"
   ]
  },
  {
   "cell_type": "markdown",
   "id": "e57f25e5",
   "metadata": {},
   "source": [
    "Using a chi-square distribution table, we compare the calculated chi-square value (1.008) with the critical value at one degree of freedom and a significance level (e.g., 0.05). The critical value, as determined from chi-square distribution tables, is approximately 3.841.\n",
    "\n",
    "Since 1.008 < 3.841, we fail to reject the null hypothesis. Thus, there is no significant association between gender and product preference in this sample."
   ]
  },
  {
   "cell_type": "code",
   "execution_count": 11,
   "id": "7a8aa5d4",
   "metadata": {},
   "outputs": [],
   "source": [
    "import pandas as pd\n",
    "import numpy as np\n",
    "from scipy.stats import chi2_contingency"
   ]
  },
  {
   "cell_type": "code",
   "execution_count": 13,
   "id": "609ba8ff",
   "metadata": {},
   "outputs": [
    {
     "name": "stdout",
     "output_type": "stream",
     "text": [
      "Chi-Squared Statistic: 42.33058608058608\n",
      "P-value: 7.707766001215449e-11\n",
      "Degrees of Freedom: 1\n",
      "Expected Frequencies:\n",
      " [[28. 52.]\n",
      " [42. 78.]]\n"
     ]
    }
   ],
   "source": [
    "data2=np.array([\n",
    "    [50,30], #Smoker: [Disease, No Disease]\n",
    "    [20, 100] #Non-Smoker: [Disease, No Disease]\n",
    "])\n",
    "\n",
    "#Perform the Chi-Squared Test\n",
    "chi2, p, dof, expected=chi2_contingency(data2)\n",
    "\n",
    "#Display results\n",
    "print(\"Chi-Squared Statistic:\", chi2)\n",
    "print(\"P-value:\", p)\n",
    "print(\"Degrees of Freedom:\", dof)\n",
    "print(\"Expected Frequencies:\\n\", expected)\n"
   ]
  },
  {
   "cell_type": "markdown",
   "id": "1b07d037",
   "metadata": {},
   "source": [
    "This result demonstrates a very strong association between smoking status and disease presence.\n",
    "\n",
    "\n",
    "Interpretation\n",
    "\t•\tChi-Squared Statistic: 42.33 Such a high value indicates a major difference between observed and expected frequencies, with almost no overlap due to randomness.\n",
    "\n",
    "\t•\tP-value: 7.71 × 10⁻¹¹ This p-value is extremely small (much less than 0.05), showing the association is statistically significant.\n",
    "\n",
    "\t•\tDegrees of Freedom: 1 Correct for a 2×2 table.\n",
    "\n",
    "\t•\tExpected Frequencies:\n",
    "\n",
    "\t•\tSmoker:\n",
    "\n",
    "\t•\tNon-Smoker:\n",
    "\tThe observed frequencies for smokers () and non-smokers () are very different from what would be expected if there were no association.\n",
    "\n",
    "What it Means\n",
    "\n",
    "\t•\tThe data provides overwhelming evidence that smoking status is associated with disease.\n",
    "\n",
    "\t•\tThe null hypothesis (no association) is strongly rejected.\n",
    "\t\n",
    "\t•\tThe difference observed is not due to chance, implying a real relationship in the sample.\n",
    "\n",
    "Practical Takeaway\n",
    "\n",
    "Whenever the chi-square statistic is large and the p-value is extremely small, it signals a strong and significant association between the categorical variables (here: smoking and disease presence). If you calculated Cramér’s V, it would be close to 1, confirming a strong effect."
   ]
  }
 ],
 "metadata": {
  "kernelspec": {
   "display_name": "Python 3",
   "language": "python",
   "name": "python3"
  },
  "language_info": {
   "codemirror_mode": {
    "name": "ipython",
    "version": 3
   },
   "file_extension": ".py",
   "mimetype": "text/x-python",
   "name": "python",
   "nbconvert_exporter": "python",
   "pygments_lexer": "ipython3",
   "version": "3.9.6"
  }
 },
 "nbformat": 4,
 "nbformat_minor": 5
}
