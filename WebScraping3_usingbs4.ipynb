{
 "cells": [
  {
   "cell_type": "code",
   "execution_count": 5,
   "metadata": {},
   "outputs": [],
   "source": [
    "from bs4 import BeautifulSoup\n",
    "import requests\n",
    "URL= \"http://www.example.com\"\n",
    "page= requests.get(URL)\n",
    "soup= BeautifulSoup(page.content,\"html.parser\")\n"
   ]
  },
  {
   "cell_type": "code",
   "execution_count": 8,
   "metadata": {},
   "outputs": [],
   "source": [
    "import scrapy\n",
    "class QuotesSpider(scrapy.Spider):\n",
    "    name=\"quotes\"\n",
    "    start_urls=['http://quotes.toscrape.com/tag/humor/',]\n",
    "    def parse(self,response):\n",
    "        for quote in response.css('div.quote'):\n",
    "            yield{'quote': quote.css('span.text::text').get()}"
   ]
  },
  {
   "cell_type": "code",
   "execution_count": 1,
   "metadata": {},
   "outputs": [],
   "source": [
    "from selenium import webdriver\n",
    "driver= webdriver.Firefox()\n",
    "driver.get(\"http://www.example.com\")"
   ]
  }
 ],
 "metadata": {
  "kernelspec": {
   "display_name": "Python 3",
   "language": "python",
   "name": "python3"
  },
  "language_info": {
   "codemirror_mode": {
    "name": "ipython",
    "version": 3
   },
   "file_extension": ".py",
   "mimetype": "text/x-python",
   "name": "python",
   "nbconvert_exporter": "python",
   "pygments_lexer": "ipython3",
   "version": "3.12.2"
  }
 },
 "nbformat": 4,
 "nbformat_minor": 2
}
